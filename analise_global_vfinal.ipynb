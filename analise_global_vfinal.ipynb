{
 "cells": [
  {
   "cell_type": "markdown",
   "metadata": {},
   "source": [
    "# \"Les Misérables\" de Victor Hugo - Uma Aplicação da Teoria de Grafos\n"
   ]
  },
  {
   "cell_type": "markdown",
   "metadata": {},
   "source": [
    "# PARTE I (ANÁLISE GLOBAL):\n",
    "# ANÁLISE DE CAMINHOS, CONECTIVIDADE, CENTRALIDADE, COMUNIDADE & CLUSTERING "
   ]
  },
  {
   "cell_type": "markdown",
   "metadata": {},
   "source": [
    "Nota: grafo não direcionado e com pesos"
   ]
  },
  {
   "cell_type": "code",
   "execution_count": 1,
   "metadata": {},
   "outputs": [],
   "source": [
    "import networkx as nx #biblioteca para o estudo de grafos  \n",
    "import sklearn as sk #biblioteca para os algoritmos de clustering\n",
    "import pandas as pd\n",
    "import numpy as np\n",
    "import scipy as sc\n",
    "import matplotlib.pyplot as plt\n",
    "%matplotlib notebook \n"
   ]
  },
  {
   "cell_type": "markdown",
   "metadata": {},
   "source": [
    "## Criar grafo a partir de um ficheiro txt (via Pandas DataFrame + função nx.from_pandas_edgelist() )"
   ]
  },
  {
   "cell_type": "code",
   "execution_count": 2,
   "metadata": {},
   "outputs": [
    {
     "data": {
      "text/html": [
       "<div>\n",
       "<style scoped>\n",
       "    .dataframe tbody tr th:only-of-type {\n",
       "        vertical-align: middle;\n",
       "    }\n",
       "\n",
       "    .dataframe tbody tr th {\n",
       "        vertical-align: top;\n",
       "    }\n",
       "\n",
       "    .dataframe thead th {\n",
       "        text-align: right;\n",
       "    }\n",
       "</style>\n",
       "<table border=\"1\" class=\"dataframe\">\n",
       "  <thead>\n",
       "    <tr style=\"text-align: right;\">\n",
       "      <th></th>\n",
       "      <th>source</th>\n",
       "      <th>target</th>\n",
       "      <th>weight</th>\n",
       "    </tr>\n",
       "  </thead>\n",
       "  <tbody>\n",
       "    <tr>\n",
       "      <th>0</th>\n",
       "      <td>1</td>\n",
       "      <td>0</td>\n",
       "      <td>1</td>\n",
       "    </tr>\n",
       "    <tr>\n",
       "      <th>1</th>\n",
       "      <td>2</td>\n",
       "      <td>0</td>\n",
       "      <td>8</td>\n",
       "    </tr>\n",
       "    <tr>\n",
       "      <th>2</th>\n",
       "      <td>3</td>\n",
       "      <td>0</td>\n",
       "      <td>10</td>\n",
       "    </tr>\n",
       "    <tr>\n",
       "      <th>3</th>\n",
       "      <td>3</td>\n",
       "      <td>2</td>\n",
       "      <td>6</td>\n",
       "    </tr>\n",
       "    <tr>\n",
       "      <th>4</th>\n",
       "      <td>4</td>\n",
       "      <td>0</td>\n",
       "      <td>1</td>\n",
       "    </tr>\n",
       "    <tr>\n",
       "      <th>5</th>\n",
       "      <td>5</td>\n",
       "      <td>0</td>\n",
       "      <td>1</td>\n",
       "    </tr>\n",
       "    <tr>\n",
       "      <th>6</th>\n",
       "      <td>6</td>\n",
       "      <td>0</td>\n",
       "      <td>1</td>\n",
       "    </tr>\n",
       "    <tr>\n",
       "      <th>7</th>\n",
       "      <td>7</td>\n",
       "      <td>0</td>\n",
       "      <td>1</td>\n",
       "    </tr>\n",
       "    <tr>\n",
       "      <th>8</th>\n",
       "      <td>8</td>\n",
       "      <td>0</td>\n",
       "      <td>2</td>\n",
       "    </tr>\n",
       "    <tr>\n",
       "      <th>9</th>\n",
       "      <td>9</td>\n",
       "      <td>0</td>\n",
       "      <td>1</td>\n",
       "    </tr>\n",
       "  </tbody>\n",
       "</table>\n",
       "</div>"
      ],
      "text/plain": [
       "   source  target  weight\n",
       "0       1       0       1\n",
       "1       2       0       8\n",
       "2       3       0      10\n",
       "3       3       2       6\n",
       "4       4       0       1\n",
       "5       5       0       1\n",
       "6       6       0       1\n",
       "7       7       0       1\n",
       "8       8       0       2\n",
       "9       9       0       1"
      ]
     },
     "execution_count": 2,
     "metadata": {},
     "output_type": "execute_result"
    }
   ],
   "source": [
    "G_df = pd.read_csv('C:/lesmiserables.txt', delim_whitespace=True, header=None, names=['source', 'target', 'weight'])\n",
    "G_df.head(10) #mostrar 10 primeiras linhas do DataFrame"
   ]
  },
  {
   "cell_type": "code",
   "execution_count": 3,
   "metadata": {},
   "outputs": [],
   "source": [
    "G = nx.from_pandas_edgelist(G_df, 'source', 'target', edge_attr='weight') #criação da rede"
   ]
  },
  {
   "cell_type": "code",
   "execution_count": 4,
   "metadata": {},
   "outputs": [
    {
     "name": "stdout",
     "output_type": "stream",
     "text": [
      "Name: \n",
      "Type: Graph\n",
      "Number of nodes: 77\n",
      "Number of edges: 254\n",
      "Average degree:   6.5974\n"
     ]
    }
   ],
   "source": [
    "print(nx.info(G)) #informações básicas da rede"
   ]
  },
  {
   "cell_type": "code",
   "execution_count": 5,
   "metadata": {},
   "outputs": [
    {
     "data": {
      "image/png": "[encoded data removed]",
      "text/plain": [
       "<matplotlib.figure.Figure at 0x1842f2d49b0>"
      ]
     },
     "metadata": {},
     "output_type": "display_data"
    }
   ],
   "source": [
    "nx.draw_networkx(G) #representação gráfica da rede"
   ]
  },
  {
   "cell_type": "code",
   "execution_count": 6,
   "metadata": {},
   "outputs": [
    {
     "name": "stdout",
     "output_type": "stream",
     "text": [
      "densidade: 0.08680792891319207\n"
     ]
    }
   ],
   "source": [
    "print(\"densidade:\", nx.density (G))\n",
    "#A densidade é igual a 0 para grafos sem arestas e 1 para um grafo completo."
   ]
  },
  {
   "cell_type": "markdown",
   "metadata": {},
   "source": [
    "## Análise de Caminhos"
   ]
  },
  {
   "cell_type": "code",
   "execution_count": 7,
   "metadata": {},
   "outputs": [],
   "source": [
    "#Algoritmo de Dijkstra para cálculo dos caminhos curtos e seus comprimentos entre um vértice source e os demais vértices \n",
    "#O output é um tuple de 2 dicionários cujas keys são os vértices target:\n",
    "#O 1º.dicionário contém a distância entre o vértice source e o vértice target. \n",
    "#O 2º.dicionário contém o caminho curto entre o vértice source e o vértice target. \n",
    "length,path = nx.single_source_dijkstra(G, 0, target=None, cutoff=None, weight='weight')"
   ]
  },
  {
   "cell_type": "code",
   "execution_count": 8,
   "metadata": {},
   "outputs": [],
   "source": [
    "#print (length, path)"
   ]
  },
  {
   "cell_type": "code",
   "execution_count": 9,
   "metadata": {},
   "outputs": [],
   "source": [
    "#print(length)"
   ]
  },
  {
   "cell_type": "code",
   "execution_count": 10,
   "metadata": {},
   "outputs": [
    {
     "name": "stdout",
     "output_type": "stream",
     "text": [
      "8\n"
     ]
    }
   ],
   "source": [
    "print(length[2]) #entre os nódulos \"0\" e \"8\" há uma distância \"2\""
   ]
  },
  {
   "cell_type": "code",
   "execution_count": 11,
   "metadata": {},
   "outputs": [
    {
     "name": "stdout",
     "output_type": "stream",
     "text": [
      "[0, 8]\n"
     ]
    }
   ],
   "source": [
    "print(path[8]) #caminho mais curto entre os nódulos \"0\" e \"8\""
   ]
  },
  {
   "cell_type": "code",
   "execution_count": 12,
   "metadata": {},
   "outputs": [
    {
     "name": "stdout",
     "output_type": "stream",
     "text": [
      "12\n"
     ]
    }
   ],
   "source": [
    "max_value = max(length.values()) #o mais \"longo\" dos caminhos curtos (e que corresponde ao diâmetro)\n",
    "print(max_value)"
   ]
  },
  {
   "cell_type": "code",
   "execution_count": 13,
   "metadata": {},
   "outputs": [],
   "source": [
    "max_keys = [k for k, v in length.items() if v == max_value]"
   ]
  },
  {
   "cell_type": "code",
   "execution_count": 14,
   "metadata": {},
   "outputs": [
    {
     "name": "stdout",
     "output_type": "stream",
     "text": [
      "12 [20, 21, 22]\n"
     ]
    }
   ],
   "source": [
    "print (max_value, max_keys)"
   ]
  },
  {
   "cell_type": "code",
   "execution_count": 15,
   "metadata": {},
   "outputs": [
    {
     "name": "stdout",
     "output_type": "stream",
     "text": [
      "O DIÂMETRO DA REDE É: 14\n",
      "O RAIO DA REDE É: 7\n"
     ]
    }
   ],
   "source": [
    "#Implementação de um algoritmo para cálculo do diâmetro e do raio, num grafo com pesos\n",
    "#O algoritmo permite ainda aferir quais os vértices associados ao diâmetro\n",
    "#nota: biblioteca networkx só permite o cálculo de diâmetros para grafos sem pesos\n",
    "L = [] #cria uma lista vazia\n",
    "for i in range (77):\n",
    "    length,path = nx.single_source_dijkstra(G, i, target=None, cutoff=None, weight='weight')\n",
    "    max_length_value = max(length.values())\n",
    "    max_keys = [k for k, v in length.items() if v == max_length_value]\n",
    "    if max_length_value != 0:\n",
    "        L.append(max_length_value)     \n",
    "    #print(\"vértice\",i,\":\",\"comprimento do caminho curto mais longo->\", max_length_value,\",\",\"nódulos target->\", max_keys)\n",
    "print(\"O DIÂMETRO DA REDE É:\", max(L))\n",
    "print(\"O RAIO DA REDE É:\", min(L))\n",
    "  \n",
    "    "
   ]
  },
  {
   "cell_type": "code",
   "execution_count": 16,
   "metadata": {},
   "outputs": [
    {
     "name": "stdout",
     "output_type": "stream",
     "text": [
      "val_1: 8\n",
      "val_2: 9\n"
     ]
    }
   ],
   "source": [
    "#validação dos resultados anteriores\n",
    "#validação 1: node 32 - comprimento do caminho curto mais \"longo\"? vértices target?\n",
    "val_1 = nx.dijkstra_path_length(G, 32, 8, weight='weight')\n",
    "print(\"val_1:\", val_1)\n",
    "#validação 2: node 76 - comprimento do caminho curto mais \"longo\"? vértices target?\n",
    "val_2 = nx.dijkstra_path_length(G, 76, 8, weight='weight')\n",
    "print(\"val_2:\", val_2)"
   ]
  },
  {
   "cell_type": "code",
   "execution_count": 17,
   "metadata": {},
   "outputs": [],
   "source": [
    "def diametro(G):  \n",
    "    L = [] #criação uma lista vazia\n",
    "    nodes = nx.nodes(G) #criação de uma lista com todos os vértices do grafo\n",
    "    for i in (nodes):\n",
    "        #criação de um dicionário para o vértice i (\"keys\"-vértices, \"values\"-caminhos curtos entre i e cada vértice)\n",
    "        length,path = nx.single_source_dijkstra(G, i, target=None, cutoff=None, weight='weight')\n",
    "        #identificação do caminho curto mais longo\n",
    "        max_length_value = max(length.values())\n",
    "        #o caminho curto mais curto associado ao vértice i é guardado na lista L\n",
    "        L.append(max_length_value)\n",
    "    #o diâmetro do grafo corresponde ao valor máximo guardado na lista L\n",
    "    return max(L)\n",
    "    "
   ]
  },
  {
   "cell_type": "code",
   "execution_count": 18,
   "metadata": {},
   "outputs": [
    {
     "data": {
      "text/plain": [
       "14"
      ]
     },
     "execution_count": 18,
     "metadata": {},
     "output_type": "execute_result"
    }
   ],
   "source": [
    "diametro(G)"
   ]
  },
  {
   "cell_type": "markdown",
   "metadata": {},
   "source": [
    "## Análise da Conectividade"
   ]
  },
  {
   "cell_type": "markdown",
   "metadata": {},
   "source": [
    "Um grafo não direcionado está conectado se, para cada par de vértices, há um caminho entre eles.\n"
   ]
  },
  {
   "cell_type": "code",
   "execution_count": 19,
   "metadata": {},
   "outputs": [
    {
     "data": {
      "text/plain": [
       "1"
      ]
     },
     "execution_count": 19,
     "metadata": {},
     "output_type": "execute_result"
    }
   ],
   "source": [
    "nx.number_connected_components(G) \n",
    "#output=1 significa que a rede tem apenas 1 componente, logo, quaisquer pares de personagens estão ligadas por um caminho"
   ]
  },
  {
   "cell_type": "markdown",
   "metadata": {},
   "source": [
    "Robustez - capacidade do grafo para manter a sua conectividade sob ataque (remoção de vértices ou arestas).\n",
    "Grafos robustos são aqueles que têm um número mínimo de vértices/arestas a remover elevado.\n"
   ]
  },
  {
   "cell_type": "code",
   "execution_count": 20,
   "metadata": {},
   "outputs": [
    {
     "name": "stdout",
     "output_type": "stream",
     "text": [
      "número mínimo de vértices a remover: 1\n",
      "vértices a remover: {11}\n"
     ]
    }
   ],
   "source": [
    "#qual é o número mínimo de vértices a remover de modo a desconectar o grafo?\n",
    "#quais são os vértices?\n",
    "print(\"número mínimo de vértices a remover:\", nx.node_connectivity(G))\n",
    "print(\"vértices a remover:\", nx.minimum_node_cut(G))"
   ]
  },
  {
   "cell_type": "markdown",
   "metadata": {},
   "source": [
    "## Análise da Centralidade"
   ]
  },
  {
   "cell_type": "markdown",
   "metadata": {},
   "source": [
    "As métricas de centralidade usam diferentes pressupostos quanto ao significado de vértice \"central\". Assim, produzem diferentes rankings.\n",
    "\n",
    "A melhor métrica de centralidade depende do contexto do grafo em análise.\n",
    "\n",
    "Para identificação dos vértices centrais, normalmente é melhor usar várias métricas de centralidade em vez de confiar em apenas uma.\n"
   ]
  },
  {
   "cell_type": "code",
   "execution_count": 21,
   "metadata": {},
   "outputs": [
    {
     "data": {
      "text/plain": [
       "158"
      ]
     },
     "execution_count": 21,
     "metadata": {},
     "output_type": "execute_result"
    }
   ],
   "source": [
    "#grau de vértice, considerando arestas com pesos\n",
    "G.degree(11,weight='weight')\n"
   ]
  },
  {
   "cell_type": "code",
   "execution_count": 22,
   "metadata": {},
   "outputs": [],
   "source": [
    "#criação de um dicionário: as \"keys\" são os vértices, os \"values\" são os respetivos graus ponderados \n",
    "dict_nd = {}\n",
    "total_vert = len(nx.nodes(G))\n",
    "for i in range(total_vert):\n",
    "    value_gp = G.degree(i,weight='weight')\n",
    "    dict_nd[i] = value_gp\n",
    "#print (dict_nd)  \n"
   ]
  },
  {
   "cell_type": "code",
   "execution_count": 23,
   "metadata": {},
   "outputs": [
    {
     "name": "stdout",
     "output_type": "stream",
     "text": [
      "TOP 5 GRAUS PONDERADOS\n",
      "vértice: [11] grau ponderado: 158\n",
      "vértice: [55] grau ponderado: 104\n",
      "vértice: [58] grau ponderado: 91\n",
      "vértice: [62] grau ponderado: 84\n",
      "vértice: [26, 59] grau ponderado: 68\n"
     ]
    }
   ],
   "source": [
    "#grau máximo ponderado\n",
    "list_nd = list(dict_nd.values()) \n",
    "top5_nd = [] #cria lista vazia onde serão guardados os 5 valores máximos de graus ponderados\n",
    "print(\"TOP 5 GRAUS PONDERADOS\")\n",
    "while len(top5_nd)<5:\n",
    "    max_temp = max(list_nd)\n",
    "    max_nd_key = [k for k, v in dict_nd.items() if v == max_temp]\n",
    "    print(\"vértice:\", max_nd_key, \"grau ponderado:\", max_temp)\n",
    "    top5_nd.append(max_temp)\n",
    "    list_nd.remove(max_temp) \n"
   ]
  },
  {
   "cell_type": "code",
   "execution_count": 24,
   "metadata": {},
   "outputs": [
    {
     "name": "stdout",
     "output_type": "stream",
     "text": [
      "TOP 5 DEGREE CENTRALITY\n",
      "vértice: [11] degree centrality: 0.47368421052631576\n",
      "vértice: [48] degree centrality: 0.2894736842105263\n",
      "vértice: [55] degree centrality: 0.25\n",
      "vértice: [27] degree centrality: 0.22368421052631576\n",
      "vértice: [25] degree centrality: 0.21052631578947367\n"
     ]
    }
   ],
   "source": [
    "#degree centrality\n",
    "#(1 significa que o vértice está ligado a todos os demais vértices do grafo, 0 se não está ligado a qualquer vértice)\n",
    "#pressuposto: os vértices importantes têm muitas ligações\n",
    "dict_dc = nx.degree_centrality(G)\n",
    "list_dc = list(dict_dc.values()) \n",
    "top5_dc = [] #cria lista vazia onde serão guardados os 5 valores de degree centrality mais elevados\n",
    "print(\"TOP 5 DEGREE CENTRALITY\")\n",
    "while len(top5_dc)<5:\n",
    "    max_temp = max(list_dc)\n",
    "    max_dc_key = [k for k, v in dict_dc.items() if v == max_temp]\n",
    "    print(\"vértice:\", max_dc_key, \"degree centrality:\", max_temp)\n",
    "    top5_dc.append(max_temp)\n",
    "    list_dc.remove(max_temp)"
   ]
  },
  {
   "cell_type": "code",
   "execution_count": 25,
   "metadata": {},
   "outputs": [],
   "source": [
    "#validação do resultado anterior\n",
    "dict_dc = nx.degree_centrality(G)\n",
    "#print(dict_dc)"
   ]
  },
  {
   "cell_type": "code",
   "execution_count": 26,
   "metadata": {},
   "outputs": [
    {
     "name": "stdout",
     "output_type": "stream",
     "text": [
      "TOP 5 EINGENVALUE CENTRALITY\n",
      "vértice: [11] eigenvalue centrality: 0.4556594087506563\n",
      "vértice: [55] eigenvalue centrality: 0.4187103329749058\n",
      "vértice: [26] eigenvalue centrality: 0.3741792779490554\n",
      "vértice: [58] eigenvalue centrality: 0.3058187875500282\n",
      "vértice: [62] eigenvalue centrality: 0.2823969230549174\n"
     ]
    }
   ],
   "source": [
    "#eigenvalue centrality\n",
    "dict_ec = nx.eigenvector_centrality(G, max_iter=100, tol=1e-06, nstart=None, weight='weight')\n",
    "list_ec = list (dict_ec.values())\n",
    "top5_ec = []\n",
    "print(\"TOP 5 EINGENVALUE CENTRALITY\")\n",
    "while len(top5_ec)<5:\n",
    "    max_temp = max(list_ec)\n",
    "    max_ec_key = [k for k, v in dict_ec.items() if v == max_temp]\n",
    "    print(\"vértice:\", max_ec_key, \"eigenvalue centrality:\", max_temp)\n",
    "    top5_ec.append(max_temp)\n",
    "    list_ec.remove(max_temp)  "
   ]
  },
  {
   "cell_type": "code",
   "execution_count": 27,
   "metadata": {},
   "outputs": [],
   "source": [
    "#carregar dataset com os pesos invertidos\n",
    "GPI_df = pd.read_csv('c:\\lesmiserablespi.csv', sep=\";\", header=None, names=['source', 'target', 'weight'])\n",
    "\n",
    "#criação do grafo com os pesos invertidos - \"GPI\" \n",
    "GPI = nx.from_pandas_edgelist(GPI_df, 'source', 'target', edge_attr='weight')"
   ]
  },
  {
   "cell_type": "code",
   "execution_count": 28,
   "metadata": {},
   "outputs": [
    {
     "name": "stdout",
     "output_type": "stream",
     "text": [
      "TOP 5 CLOSENESS CENTRALITY\n",
      "vértice: [11.0] closeness centrality: 1.6898389539007483\n",
      "vértice: [55.0] closeness centrality: 1.6482360621038\n",
      "vértice: [26.0] closeness centrality: 1.64056513151504\n",
      "vértice: [27.0] closeness centrality: 1.564094965260627\n",
      "vértice: [25.0] closeness centrality: 1.5314583715358316\n"
     ]
    }
   ],
   "source": [
    "#closeness centrality \n",
    "#pressuposto: os vértices importantes estão próximos dos demais vértices\n",
    "dict_cc = nx.closeness_centrality(GPI, u=None, distance=\"weight\")\n",
    "list_cc = list (dict_cc.values())\n",
    "top5_cc = []\n",
    "print(\"TOP 5 CLOSENESS CENTRALITY\")\n",
    "while len(top5_cc)<5:\n",
    "    max_temp = max(list_cc)\n",
    "    max_cc_key = [k for k, v in dict_cc.items() if v == max_temp]\n",
    "    print(\"vértice:\", max_cc_key, \"closeness centrality:\", max_temp)\n",
    "    top5_cc.append(max_temp)\n",
    "    list_cc.remove(max_temp)\n"
   ]
  },
  {
   "cell_type": "code",
   "execution_count": 37,
   "metadata": {},
   "outputs": [
    {
     "name": "stdout",
     "output_type": "stream",
     "text": [
      "TOP 5 BETWEENNESS CENTRALITY\n",
      "vértice: [11.0] betweeness centrality: 0.7946491228070175\n",
      "vértice: [55.0] betweeness centrality: 0.4989473684210526\n",
      "vértice: [0.0] betweeness centrality: 0.223859649122807\n",
      "vértice: [23.0] betweeness centrality: 0.19333333333333333\n",
      "vértice: [62.0] betweeness centrality: 0.17649122807017542\n"
     ]
    }
   ],
   "source": [
    "#betweenness centrality\n",
    "#pressuposto: os vértices importantes ligam outros vértices\n",
    "#um vértice tem betweeness centrality elevada se aparece em muitos caminhos curtos dos outros vértices\n",
    "dict_bc = nx.betweenness_centrality(GPI, k=None, weight='weight', endpoints=False)\n",
    "list_bc = list (dict_bc.values())\n",
    "top5_bc = []\n",
    "print(\"TOP 5 BETWEENNESS CENTRALITY\")\n",
    "while len(top5_bc)<5:\n",
    "    max_temp = max(list_bc)\n",
    "    max_bc_key = [k for k, v in dict_bc.items() if v == max_temp]\n",
    "    print(\"vértice:\", max_bc_key, \"betweeness centrality:\", max_temp)\n",
    "    top5_bc.append(max_temp)\n",
    "    list_bc.remove(max_temp)\n",
    "\n"
   ]
  },
  {
   "cell_type": "markdown",
   "metadata": {},
   "source": [
    "## Clustering"
   ]
  },
  {
   "cell_type": "markdown",
   "metadata": {},
   "source": [
    "As duas técnicas (i.e. hierárquicas e não-hierárquicas) podem ser combinadas:\n",
    "1)usar uma metodologia hierárquica (ex.mean shift clustering) para definir o número de grupos/clusters (se desconhecido) e, de seguida,\n",
    "2)optimizar a partição usando um método não-hierárquico (ex.k-means).\n",
    "\n",
    "\n",
    "O Silhouette Ratio é provavelmente a métrica mais apropriada para medir a qualidade do k-means."
   ]
  },
  {
   "cell_type": "code",
   "execution_count": 34,
   "metadata": {},
   "outputs": [],
   "source": [
    "#import dataset into numpy array\n",
    "G_a = np.loadtxt('C:/lesmiserables_height_weight.txt')\n",
    "#print(G_a)"
   ]
  },
  {
   "cell_type": "code",
   "execution_count": 35,
   "metadata": {
    "scrolled": true
   },
   "outputs": [
    {
     "data": {
      "image/png": "[encoded data removed]",
      "text/plain": [
       "<matplotlib.figure.Figure at 0x2899d10e860>"
      ]
     },
     "metadata": {},
     "output_type": "display_data"
    }
   ],
   "source": [
    "x = G_a[:,0]\n",
    "y = G_a[:,1]\n",
    "plt.plot(x, y, \"ro\", markersize = 1)\n",
    "plt.title(\"Les Misérables\")\n",
    "plt.xlabel(\"Altura (cm)\")\n",
    "plt.ylabel(\"Peso (kg)\")\n",
    "plt.show()\n"
   ]
  },
  {
   "cell_type": "markdown",
   "metadata": {},
   "source": [
    "### 1º passo) Clustering Hierárquico (via Mean Shift Clustering) "
   ]
  },
  {
   "cell_type": "code",
   "execution_count": 33,
   "metadata": {},
   "outputs": [],
   "source": [
    "import numpy as np\n",
    "import matplotlib.pyplot as plt\n",
    "\n",
    "from sklearn.cluster import MeanShift "
   ]
  },
  {
   "cell_type": "code",
   "execution_count": 34,
   "metadata": {},
   "outputs": [
    {
     "name": "stdout",
     "output_type": "stream",
     "text": [
      "Centros dos clusters: [[184.64864865  60.62162162]\n",
      " [165.13793103  71.55172414]]\n",
      "Número estimado de clusters: 2\n"
     ]
    },
    {
     "data": {
      "image/png": "[encoded data removed]",
      "text/plain": [
       "<matplotlib.figure.Figure at 0x1e1ac012fd0>"
      ]
     },
     "metadata": {},
     "output_type": "display_data"
    }
   ],
   "source": [
    "ms = MeanShift()\n",
    "ms.fit(G_a)\n",
    "labels = ms.labels_\n",
    "cluster_centers = ms.cluster_centers_\n",
    "\n",
    "print('Centros dos clusters:',cluster_centers)\n",
    "\n",
    "n_clusters_ = len(np.unique(labels))\n",
    "\n",
    "print(\"Número estimado de clusters:\", n_clusters_)\n",
    "\n",
    "colors = 10*['y.','g.','b.','c.','k,','r.','m.'] #como não sabemos quantos clusters o algoritmo irá retornar, disponibilizamos um mínimo de 70 cores\n",
    "\n",
    "#print('Cores:',colors)\n",
    "#print('Etiquetas:',labels)\n",
    "\n",
    "for i in range (len(G_a)):\n",
    "    plt.plot(G_a[i][0], G_a[i][1], colors[labels[i]], markersize=10)\n",
    "\n",
    "x_cluster_centers = cluster_centers[:,0]\n",
    "y_cluster_centers = cluster_centers[:,1]\n",
    "plt.scatter(x_cluster_centers, y_cluster_centers, marker = \"x\", s = 150, linewidths = 5, zorder = 10)\n",
    "\n",
    "plt.show()"
   ]
  },
  {
   "cell_type": "markdown",
   "metadata": {},
   "source": [
    "### 2º passo) Clustering Não-Hierárquico (via K-means)"
   ]
  },
  {
   "cell_type": "code",
   "execution_count": 35,
   "metadata": {},
   "outputs": [],
   "source": [
    "import numpy as np\n",
    "import matplotlib.pyplot as plt\n",
    "from matplotlib import style\n",
    "style.use(\"ggplot\")\n",
    "\n",
    "from sklearn.cluster import KMeans\n",
    "\n"
   ]
  },
  {
   "cell_type": "code",
   "execution_count": 36,
   "metadata": {},
   "outputs": [
    {
     "name": "stdout",
     "output_type": "stream",
     "text": [
      "Centróides: [[188.07317073  64.87804878]\n",
      " [162.63888889  73.63888889]]\n"
     ]
    },
    {
     "data": {
      "image/png": "[encoded data removed]",
      "text/plain": [
       "<matplotlib.figure.Figure at 0x1e1a8503f98>"
      ]
     },
     "metadata": {},
     "output_type": "display_data"
    }
   ],
   "source": [
    "kmeans = KMeans(n_clusters=2)\n",
    "kmeans.fit(G_a)\n",
    "\n",
    "centroids = kmeans.cluster_centers_\n",
    "labels = kmeans.labels_\n",
    "\n",
    "print(\"Centróides:\",centroids)\n",
    "#print(\"Etiquetas:\",labels)\n",
    "\n",
    "colors = ['y.','g.','b.']\n",
    "\n",
    "for i in range (len(G_a)):\n",
    "    #print(\"Coordenadas:\",G_a[i], \"Etiqueta:\", labels[i])\n",
    "    plt.plot(G_a[i][0], G_a[i][1], colors[labels[i]], markersize=5)\n",
    "    \n",
    "x_centroids = centroids[:,0]\n",
    "y_centroids = centroids[:,1]\n",
    "plt.scatter(x_centroids, y_centroids, marker = \"x\", s = 150, linewidths = 5, zorder = 10)\n",
    "\n",
    "plt.show()"
   ]
  },
  {
   "cell_type": "markdown",
   "metadata": {},
   "source": [
    "### O Coeficiente Silhouette \n",
    "\n",
    "-O seu valor varia entre -1 para um incorreto clustering e +1 para um clustering de elevada densidade. Valores em torno de zero indicam overlapping clusters (i.e. clusters sobrepostos).\n",
    "-A pontuação é elevada quando os clusters são densos e estão bem separados entre eles.\n"
   ]
  },
  {
   "cell_type": "code",
   "execution_count": 37,
   "metadata": {},
   "outputs": [
    {
     "data": {
      "text/plain": [
       "0.40421637833617735"
      ]
     },
     "execution_count": 37,
     "metadata": {},
     "output_type": "execute_result"
    }
   ],
   "source": [
    "import numpy as np\n",
    "from sklearn import metrics\n",
    "from sklearn.cluster import KMeans\n",
    "kmeans_model = KMeans(n_clusters=2).fit(G_a)\n",
    "labels = kmeans_model.labels_\n",
    "metrics.silhouette_score(G_a, labels, metric='euclidean')"
   ]
  },
  {
   "cell_type": "code",
   "execution_count": null,
   "metadata": {},
   "outputs": [],
   "source": []
  }
 ],
 "metadata": {
  "kernelspec": {
   "display_name": "Python 3",
   "language": "python",
   "name": "python3"
  },
  "language_info": {
   "codemirror_mode": {
    "name": "ipython",
    "version": 3
   },
   "file_extension": ".py",
   "mimetype": "text/x-python",
   "name": "python",
   "nbconvert_exporter": "python",
   "pygments_lexer": "ipython3",
   "version": "3.6.4"
  }
 },
 "nbformat": 4,
 "nbformat_minor": 2
}
